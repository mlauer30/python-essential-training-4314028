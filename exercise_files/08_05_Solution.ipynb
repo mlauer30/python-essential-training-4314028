{
 "cells": [
  {
   "cell_type": "markdown",
   "id": "3af5c371",
   "metadata": {},
   "source": [
    "## Message Exceptions\n",
    "\n",
    "The SaveMessages class now has limited memory and should only be able to hold a maximum of 10 messages at once.\n",
    "\n",
    "This challenge has three parts, outlined in comments below. \n",
    "\n",
    "**\\# 1. Finish creating the TooManyMessagesException class**\n",
    "\n",
    "Fill in the TooManyMessagesException class. Add a custom message!\n",
    "\n",
    "**\\# 2. Raise a TooManyMessagesException exception here**\n",
    "\n",
    "Make sure that the SaveMessages class doesn't get over-full and raises an Exception if the max_messages limit is reached.\n",
    "\n",
    "**\\# 3. Catch a TooManyMessagesException and print the messages**\n",
    "\n",
    "Modify this code so that, if an exception is raised when the message is sent, the messages are printed out (emptying the message list) and the message is re-sent. Make sure to print out any remaining messages at the end!\n"
   ]
  },
  {
   "cell_type": "code",
   "execution_count": null,
   "id": "4261d50d",
   "metadata": {},
   "outputs": [],
   "source": [
    "from datetime import datetime\n",
    "\n",
    "def getCurrentTime():\n",
    "    return datetime.now().strftime(\"%m-%d-%Y %H:%M:%S\")\n",
    "\n",
    "\n",
    "class Messenger:\n",
    "    def __init__(self, listeners=[]):\n",
    "        self.listeners = listeners\n",
    "    \n",
    "    def send(self, message):\n",
    "        for listener in self.listeners:\n",
    "            listener.receive(message)\n",
    "\n",
    "    def receive(self, message):\n",
    "        # Must be implemented by extending classes\n",
    "        pass\n",
    "\n",
    "class TooManyMessagesException(Exception):\n",
    "    def __init__(self, message):\n",
    "        super().__init__(f'Message \"{message}\" could not be added. Please clear existing messages')\n",
    "\n",
    "class SaveMessages(Messenger):\n",
    "    def __init__(self, listeners=[]):\n",
    "        super().__init__(listeners)\n",
    "        self.messages = []\n",
    "        self.max_messages = 10\n",
    "        \n",
    "    def receive(self, message):\n",
    "        if len(self.messages) >= self.max_messages:\n",
    "            raise TooManyMessagesException(message)\n",
    "        self.messages.append({'message': message, 'time': getCurrentTime()})\n",
    "        \n",
    "    def printMessages(self):\n",
    "        for m in self.messages:\n",
    "            print(f'Message: \"{m[\"message\"]}\" Time: {m[\"time\"]}')\n",
    "        self.messages = []\n"
   ]
  },
  {
   "cell_type": "code",
   "execution_count": null,
   "id": "8b1c31e2",
   "metadata": {},
   "outputs": [],
   "source": [
    "listener = SaveMessages()\n",
    "sender = Messenger([listener])\n"
   ]
  },
  {
   "cell_type": "code",
   "execution_count": null,
   "id": "6baf6405",
   "metadata": {},
   "outputs": [],
   "source": [
    "for i in range(0, 1000):\n",
    "    try:\n",
    "        sender.send(f'This is message {i}')\n",
    "    except TooManyMessagesException:\n",
    "        listener.printMessages()\n",
    "        sender.send(f'This is message {i}')\n",
    "        \n",
    "# listener.printMessages()"
   ]
  },
  {
   "cell_type": "code",
   "execution_count": null,
   "id": "b5de6296",
   "metadata": {},
   "outputs": [],
   "source": []
  }
 ],
 "metadata": {
  "kernelspec": {
   "display_name": "Python 3 (ipykernel)",
   "language": "python",
   "name": "python3"
  },
  "language_info": {
   "codemirror_mode": {
    "name": "ipython",
    "version": 3
   },
   "file_extension": ".py",
   "mimetype": "text/x-python",
   "name": "python",
   "nbconvert_exporter": "python",
   "pygments_lexer": "ipython3",
   "version": "3.10.12"
  }
 },
 "nbformat": 4,
 "nbformat_minor": 5
}
