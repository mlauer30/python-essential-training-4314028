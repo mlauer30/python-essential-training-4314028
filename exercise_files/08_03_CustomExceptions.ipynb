{
 "cells": [
  {
   "cell_type": "markdown",
   "id": "b0f022fe",
   "metadata": {},
   "source": [
    "## Custom Exceptions"
   ]
  },
  {
   "cell_type": "code",
   "execution_count": 6,
   "id": "a15ba290",
   "metadata": {},
   "outputs": [
    {
     "ename": "CustomException",
     "evalue": "You called the causeError function!",
     "output_type": "error",
     "traceback": [
      "\u001b[0;31m---------------------------------------------------------------------------\u001b[0m",
      "\u001b[0;31mCustomException\u001b[0m                           Traceback (most recent call last)",
      "\u001b[1;32m/home/matthew/python-essential-training-4314028/exercise_files/08_03_CustomExceptions.ipynb Cell 2\u001b[0m line \u001b[0;36m8\n\u001b[1;32m      <a href='vscode-notebook-cell://wsl%2Bubuntu-22.04/home/matthew/python-essential-training-4314028/exercise_files/08_03_CustomExceptions.ipynb#W1sdnNjb2RlLXJlbW90ZQ%3D%3D?line=4'>5</a>\u001b[0m \u001b[39mdef\u001b[39;00m \u001b[39mcauseError\u001b[39m():\n\u001b[1;32m      <a href='vscode-notebook-cell://wsl%2Bubuntu-22.04/home/matthew/python-essential-training-4314028/exercise_files/08_03_CustomExceptions.ipynb#W1sdnNjb2RlLXJlbW90ZQ%3D%3D?line=5'>6</a>\u001b[0m     \u001b[39mraise\u001b[39;00m CustomException(\u001b[39m'\u001b[39m\u001b[39mYou called the causeError function!\u001b[39m\u001b[39m'\u001b[39m)\n\u001b[0;32m----> <a href='vscode-notebook-cell://wsl%2Bubuntu-22.04/home/matthew/python-essential-training-4314028/exercise_files/08_03_CustomExceptions.ipynb#W1sdnNjb2RlLXJlbW90ZQ%3D%3D?line=7'>8</a>\u001b[0m causeError()\n",
      "\u001b[1;32m/home/matthew/python-essential-training-4314028/exercise_files/08_03_CustomExceptions.ipynb Cell 2\u001b[0m line \u001b[0;36m6\n\u001b[1;32m      <a href='vscode-notebook-cell://wsl%2Bubuntu-22.04/home/matthew/python-essential-training-4314028/exercise_files/08_03_CustomExceptions.ipynb#W1sdnNjb2RlLXJlbW90ZQ%3D%3D?line=4'>5</a>\u001b[0m \u001b[39mdef\u001b[39;00m \u001b[39mcauseError\u001b[39m():\n\u001b[0;32m----> <a href='vscode-notebook-cell://wsl%2Bubuntu-22.04/home/matthew/python-essential-training-4314028/exercise_files/08_03_CustomExceptions.ipynb#W1sdnNjb2RlLXJlbW90ZQ%3D%3D?line=5'>6</a>\u001b[0m     \u001b[39mraise\u001b[39;00m CustomException(\u001b[39m'\u001b[39m\u001b[39mYou called the causeError function!\u001b[39m\u001b[39m'\u001b[39m)\n",
      "\u001b[0;31mCustomException\u001b[0m: You called the causeError function!"
     ]
    }
   ],
   "source": [
    "class CustomException(Exception):\n",
    "    pass\n",
    "\n",
    "\n",
    "def causeError():\n",
    "    raise CustomException('You called the causeError function!')\n",
    "    \n",
    "causeError()"
   ]
  },
  {
   "cell_type": "markdown",
   "id": "b0cae9c9",
   "metadata": {},
   "source": [
    "### Adding Attributes"
   ]
  },
  {
   "cell_type": "code",
   "execution_count": 7,
   "id": "1b6caf83",
   "metadata": {},
   "outputs": [
    {
     "ename": "NotFound",
     "evalue": "Status code: 404 and message is: Resource not found",
     "output_type": "error",
     "traceback": [
      "\u001b[0;31m---------------------------------------------------------------------------\u001b[0m",
      "\u001b[0;31mNotFound\u001b[0m                                  Traceback (most recent call last)",
      "\u001b[1;32m/home/matthew/python-essential-training-4314028/exercise_files/08_03_CustomExceptions.ipynb Cell 4\u001b[0m line \u001b[0;36m2\n\u001b[1;32m     <a href='vscode-notebook-cell://wsl%2Bubuntu-22.04/home/matthew/python-essential-training-4314028/exercise_files/08_03_CustomExceptions.ipynb#W3sdnNjb2RlLXJlbW90ZQ%3D%3D?line=18'>19</a>\u001b[0m     \u001b[39mraise\u001b[39;00m NotFound()\n\u001b[1;32m     <a href='vscode-notebook-cell://wsl%2Bubuntu-22.04/home/matthew/python-essential-training-4314028/exercise_files/08_03_CustomExceptions.ipynb#W3sdnNjb2RlLXJlbW90ZQ%3D%3D?line=20'>21</a>\u001b[0m \u001b[39m# raiseServerError()\u001b[39;00m\n\u001b[0;32m---> <a href='vscode-notebook-cell://wsl%2Bubuntu-22.04/home/matthew/python-essential-training-4314028/exercise_files/08_03_CustomExceptions.ipynb#W3sdnNjb2RlLXJlbW90ZQ%3D%3D?line=22'>23</a>\u001b[0m raiseNotFoundError()\n",
      "\u001b[1;32m/home/matthew/python-essential-training-4314028/exercise_files/08_03_CustomExceptions.ipynb Cell 4\u001b[0m line \u001b[0;36m1\n\u001b[1;32m     <a href='vscode-notebook-cell://wsl%2Bubuntu-22.04/home/matthew/python-essential-training-4314028/exercise_files/08_03_CustomExceptions.ipynb#W3sdnNjb2RlLXJlbW90ZQ%3D%3D?line=17'>18</a>\u001b[0m \u001b[39mdef\u001b[39;00m \u001b[39mraiseNotFoundError\u001b[39m():\n\u001b[0;32m---> <a href='vscode-notebook-cell://wsl%2Bubuntu-22.04/home/matthew/python-essential-training-4314028/exercise_files/08_03_CustomExceptions.ipynb#W3sdnNjb2RlLXJlbW90ZQ%3D%3D?line=18'>19</a>\u001b[0m     \u001b[39mraise\u001b[39;00m NotFound()\n",
      "\u001b[0;31mNotFound\u001b[0m: Status code: 404 and message is: Resource not found"
     ]
    }
   ],
   "source": [
    "class HttpException(Exception):\n",
    "    statusCode = None\n",
    "    message = None\n",
    "    def __init__(self):\n",
    "        super().__init__(f'Status code: {self.statusCode} and message is: {self.message}')\n",
    "        \n",
    "class NotFound(HttpException):\n",
    "    statusCode = 404\n",
    "    message = 'Resource not found'\n",
    "    \n",
    "class ServerError(HttpException):\n",
    "    statusCode = 500\n",
    "    message = 'The server messed up!'\n",
    "    \n",
    "def raiseServerError():\n",
    "    raise ServerError()\n",
    "\n",
    "def raiseNotFoundError():\n",
    "    raise NotFound()\n",
    "\n",
    "# raiseServerError()\n",
    "\n",
    "raiseNotFoundError()\n"
   ]
  },
  {
   "cell_type": "code",
   "execution_count": null,
   "id": "2eabeda5",
   "metadata": {},
   "outputs": [],
   "source": []
  }
 ],
 "metadata": {
  "kernelspec": {
   "display_name": "Python 3 (ipykernel)",
   "language": "python",
   "name": "python3"
  },
  "language_info": {
   "codemirror_mode": {
    "name": "ipython",
    "version": 3
   },
   "file_extension": ".py",
   "mimetype": "text/x-python",
   "name": "python",
   "nbconvert_exporter": "python",
   "pygments_lexer": "ipython3",
   "version": "3.10.12"
  }
 },
 "nbformat": 4,
 "nbformat_minor": 5
}
