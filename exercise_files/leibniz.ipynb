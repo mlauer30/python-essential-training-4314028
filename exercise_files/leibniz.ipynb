{
 "cells": [
  {
   "cell_type": "code",
   "execution_count": 2,
   "metadata": {},
   "outputs": [
    {
     "name": "stdout",
     "output_type": "stream",
     "text": [
      "3.1425916543395442\n"
     ]
    }
   ],
   "source": [
    "# pi/4 = 1/1 - 1/3 + 1/5 - 1/7...\n",
    "\n",
    "def leibniz(n):\n",
    "    pi_over_4 = 1\n",
    "    for i in range(n):\n",
    "        den = i*2 + 3\n",
    "        if i % 2 == 0:\n",
    "            pi_over_4 -= 1/den\n",
    "        else:\n",
    "            pi_over_4 += 1/den\n",
    "    return pi_over_4\n",
    "\n",
    "print(leibniz(1000) * 4)"
   ]
  },
  {
   "cell_type": "code",
   "execution_count": 4,
   "metadata": {},
   "outputs": [
    {
     "name": "stdout",
     "output_type": "stream",
     "text": [
      "3.1415916535897743\n"
     ]
    }
   ],
   "source": [
    "'''\n",
    "The Leibniz formula for Pi is: \n",
    "π = 4 * (1 - 1/3 + 1/5 - 1/7 + 1/9 - ...), \n",
    "which represents an infinite alternating series where each term is calculated by adding and subtracting fractions with increasing odd denominators, all multiplied by 4. \n",
    "'''\n",
    "def leibniz(num):\n",
    "    pi = 1.0 \n",
    "    curr = 3\n",
    "    for i in range(1, num):\n",
    "        if(i % 2 == 0):\n",
    "            pi += (1.0/curr)\n",
    "        else:\n",
    "            pi -= (1.0/curr)\n",
    "        curr += 2\n",
    "    pi *= 4.0\n",
    "    return pi\n",
    "\n",
    "print(leibniz(1000000))\n"
   ]
  }
 ],
 "metadata": {
  "kernelspec": {
   "display_name": "Python 3",
   "language": "python",
   "name": "python3"
  },
  "language_info": {
   "codemirror_mode": {
    "name": "ipython",
    "version": 3
   },
   "file_extension": ".py",
   "mimetype": "text/x-python",
   "name": "python",
   "nbconvert_exporter": "python",
   "pygments_lexer": "ipython3",
   "version": "3.10.12"
  }
 },
 "nbformat": 4,
 "nbformat_minor": 2
}
