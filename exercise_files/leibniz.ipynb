{
 "cells": [
  {
   "cell_type": "code",
   "execution_count": 11,
   "metadata": {},
   "outputs": [
    {
     "name": "stdout",
     "output_type": "stream",
     "text": [
      "3.1425916543395442\n"
     ]
    }
   ],
   "source": [
    "# pi/4 = 1/1 - 1/3 + 1/5 - 1/7...\n",
    "\n",
    "def leibniz(n):\n",
    "    pi_over_4 = 1\n",
    "    for i in range(n):\n",
    "        den = i*2 + 3\n",
    "        if i % 2 == 0:\n",
    "            pi_over_4 -= 1/den\n",
    "        else:\n",
    "            pi_over_4 += 1/den\n",
    "    return pi_over_4\n",
    "\n",
    "print(leibniz(1000) * 4)"
   ]
  }
 ],
 "metadata": {
  "kernelspec": {
   "display_name": "Python 3",
   "language": "python",
   "name": "python3"
  },
  "language_info": {
   "codemirror_mode": {
    "name": "ipython",
    "version": 3
   },
   "file_extension": ".py",
   "mimetype": "text/x-python",
   "name": "python",
   "nbconvert_exporter": "python",
   "pygments_lexer": "ipython3",
   "version": "3.10.12"
  }
 },
 "nbformat": 4,
 "nbformat_minor": 2
}
